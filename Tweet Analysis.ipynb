{
 "cells": [
  {
   "cell_type": "code",
   "execution_count": 1,
   "id": "f8d4e43c",
   "metadata": {},
   "outputs": [],
   "source": [
    "import pandas as pd\n",
    "import numpy as np\n",
    "import seaborn as sns\n",
    "from sklearn.preprocessing import LabelEncoder\n",
    "import nltk\n",
    "import re\n",
    "from nltk.corpus import stopwords\n",
    "from nltk.stem.porter import PorterStemmer\n",
    "import tensorflow\n",
    "from tensorflow import keras\n",
    "from keras.preprocessing.text import one_hot\n",
    "from keras_preprocessing.sequence import pad_sequences\n",
    "from keras.models import Sequential\n",
    "from keras.layers import Dense,Embedding,Dropout,LSTM\n",
    "from sklearn.model_selection import train_test_split\n",
    "from sklearn import metrics\n",
    "import matplotlib.pyplot as plt"
   ]
  },
  {
   "cell_type": "code",
   "execution_count": 2,
   "id": "bd096b87",
   "metadata": {},
   "outputs": [
    {
     "data": {
      "text/html": [
       "<div>\n",
       "<style scoped>\n",
       "    .dataframe tbody tr th:only-of-type {\n",
       "        vertical-align: middle;\n",
       "    }\n",
       "\n",
       "    .dataframe tbody tr th {\n",
       "        vertical-align: top;\n",
       "    }\n",
       "\n",
       "    .dataframe thead th {\n",
       "        text-align: right;\n",
       "    }\n",
       "</style>\n",
       "<table border=\"1\" class=\"dataframe\">\n",
       "  <thead>\n",
       "    <tr style=\"text-align: right;\">\n",
       "      <th></th>\n",
       "      <th>UserName</th>\n",
       "      <th>ScreenName</th>\n",
       "      <th>TweetAt</th>\n",
       "      <th>OriginalTweet</th>\n",
       "      <th>Sentiment</th>\n",
       "    </tr>\n",
       "  </thead>\n",
       "  <tbody>\n",
       "    <tr>\n",
       "      <th>0</th>\n",
       "      <td>1</td>\n",
       "      <td>44953</td>\n",
       "      <td>02-03-2020</td>\n",
       "      <td>TRENDING: New Yorkers encounter empty supermar...</td>\n",
       "      <td>0</td>\n",
       "    </tr>\n",
       "    <tr>\n",
       "      <th>1</th>\n",
       "      <td>2</td>\n",
       "      <td>44954</td>\n",
       "      <td>02-03-2020</td>\n",
       "      <td>When I couldn't find hand sanitizer at Fred Me...</td>\n",
       "      <td>4</td>\n",
       "    </tr>\n",
       "    <tr>\n",
       "      <th>2</th>\n",
       "      <td>3</td>\n",
       "      <td>44955</td>\n",
       "      <td>02-03-2020</td>\n",
       "      <td>Find out how you can protect yourself and love...</td>\n",
       "      <td>1</td>\n",
       "    </tr>\n",
       "    <tr>\n",
       "      <th>3</th>\n",
       "      <td>4</td>\n",
       "      <td>44956</td>\n",
       "      <td>02-03-2020</td>\n",
       "      <td>#Panic buying hits #NewYork City as anxious sh...</td>\n",
       "      <td>2</td>\n",
       "    </tr>\n",
       "    <tr>\n",
       "      <th>4</th>\n",
       "      <td>5</td>\n",
       "      <td>44957</td>\n",
       "      <td>03-03-2020</td>\n",
       "      <td>#toiletpaper #dunnypaper #coronavirus #coronav...</td>\n",
       "      <td>3</td>\n",
       "    </tr>\n",
       "  </tbody>\n",
       "</table>\n",
       "</div>"
      ],
      "text/plain": [
       "   UserName  ScreenName     TweetAt  \\\n",
       "0         1       44953  02-03-2020   \n",
       "1         2       44954  02-03-2020   \n",
       "2         3       44955  02-03-2020   \n",
       "3         4       44956  02-03-2020   \n",
       "4         5       44957  03-03-2020   \n",
       "\n",
       "                                       OriginalTweet  Sentiment  \n",
       "0  TRENDING: New Yorkers encounter empty supermar...          0  \n",
       "1  When I couldn't find hand sanitizer at Fred Me...          4  \n",
       "2  Find out how you can protect yourself and love...          1  \n",
       "3  #Panic buying hits #NewYork City as anxious sh...          2  \n",
       "4  #toiletpaper #dunnypaper #coronavirus #coronav...          3  "
      ]
     },
     "execution_count": 2,
     "metadata": {},
     "output_type": "execute_result"
    }
   ],
   "source": [
    "data=pd.read_csv(\"Corona_NLP_test.csv\")\n",
    "data['Sentiment']=LabelEncoder().fit_transform(data['Sentiment'])\n",
    "data=data.dropna(axis=1)\n",
    "data.head()"
   ]
  },
  {
   "cell_type": "code",
   "execution_count": 3,
   "id": "69259e8e",
   "metadata": {},
   "outputs": [],
   "source": [
    "x=data.drop('Sentiment',axis=1)\n",
    "y=data['Sentiment'].values\n",
    "y=y.reshape(-1,1)"
   ]
  },
  {
   "cell_type": "code",
   "execution_count": 4,
   "id": "197612ae",
   "metadata": {},
   "outputs": [
    {
     "name": "stderr",
     "output_type": "stream",
     "text": [
      "[nltk_data] Downloading package stopwords to\n",
      "[nltk_data]     C:\\Users\\User\\AppData\\Roaming\\nltk_data...\n",
      "[nltk_data]   Package stopwords is already up-to-date!\n"
     ]
    }
   ],
   "source": [
    "nltk.download('stopwords')\n",
    "message=x.copy()\n",
    "message.reset_index(inplace=True)"
   ]
  },
  {
   "cell_type": "code",
   "execution_count": 5,
   "id": "0e00cbba",
   "metadata": {},
   "outputs": [],
   "source": [
    "ps=PorterStemmer()\n",
    "corpus=[]\n",
    "for i in range(len(x)):\n",
    "  review=re.sub('[^a-zA-Z]',' ',message['OriginalTweet'][i])\n",
    "  review=review.lower()\n",
    "  review=review.split()\n",
    "  review=[ps.stem(word) for word in review if not word in stopwords.words('english')]\n",
    "  review=' '.join(review)\n",
    "  corpus.append(review)"
   ]
  },
  {
   "cell_type": "code",
   "execution_count": 6,
   "id": "d648a546",
   "metadata": {},
   "outputs": [],
   "source": [
    "voc_size=50000\n",
    "one_hot_r=[one_hot(word,voc_size) for word in corpus]\n",
    "\n",
    "sent_length=30\n",
    "input=pad_sequences(one_hot_r,padding='pre',maxlen=sent_length)"
   ]
  },
  {
   "cell_type": "code",
   "execution_count": 7,
   "id": "c3de0181",
   "metadata": {},
   "outputs": [],
   "source": [
    "final_input=np.array(input)\n",
    "final_output=np.array(y)"
   ]
  },
  {
   "cell_type": "code",
   "execution_count": 8,
   "id": "9e129da7",
   "metadata": {},
   "outputs": [
    {
     "data": {
      "text/plain": [
       "(2544, 30)"
      ]
     },
     "execution_count": 8,
     "metadata": {},
     "output_type": "execute_result"
    }
   ],
   "source": [
    "x_train, x_test, y_train, y_test = train_test_split(final_input,final_output, test_size=0.33, random_state=42)\n",
    "x_train.shape"
   ]
  },
  {
   "cell_type": "code",
   "execution_count": 9,
   "id": "96261c1e",
   "metadata": {},
   "outputs": [],
   "source": [
    "dim=40\n",
    "model=Sequential()\n",
    "model.add(Embedding(voc_size,dim,input_length=sent_length))\n",
    "model.add(Dropout(0.3))\n",
    "model.add(LSTM(80))\n",
    "model.add(Dropout(0.3))\n",
    "model.add(Dense(1,activation='softmax'))\n",
    "model.compile(optimizer='adam',loss='categorical_crossentropy',metrics=['accuracy'])"
   ]
  },
  {
   "cell_type": "code",
   "execution_count": 10,
   "id": "6c54f5f4",
   "metadata": {},
   "outputs": [
    {
     "name": "stdout",
     "output_type": "stream",
     "text": [
      "Epoch 1/120\n",
      "51/51 [==============================] - 3s 29ms/step - loss: 0.0000e+00 - accuracy: 0.1521 - val_loss: 0.0000e+00 - val_accuracy: 0.1691\n",
      "Epoch 2/120\n",
      "51/51 [==============================] - 1s 20ms/step - loss: 0.0000e+00 - accuracy: 0.1521 - val_loss: 0.0000e+00 - val_accuracy: 0.1691\n",
      "Epoch 3/120\n",
      "51/51 [==============================] - 1s 21ms/step - loss: 0.0000e+00 - accuracy: 0.1521 - val_loss: 0.0000e+00 - val_accuracy: 0.1691\n",
      "Epoch 4/120\n",
      "51/51 [==============================] - 1s 20ms/step - loss: 0.0000e+00 - accuracy: 0.1521 - val_loss: 0.0000e+00 - val_accuracy: 0.1691\n",
      "Epoch 5/120\n",
      "51/51 [==============================] - 1s 20ms/step - loss: 0.0000e+00 - accuracy: 0.1521 - val_loss: 0.0000e+00 - val_accuracy: 0.1691\n",
      "Epoch 6/120\n",
      "51/51 [==============================] - 1s 20ms/step - loss: 0.0000e+00 - accuracy: 0.1521 - val_loss: 0.0000e+00 - val_accuracy: 0.1691\n",
      "Epoch 7/120\n",
      "51/51 [==============================] - 1s 20ms/step - loss: 0.0000e+00 - accuracy: 0.1521 - val_loss: 0.0000e+00 - val_accuracy: 0.1691\n",
      "Epoch 8/120\n",
      "51/51 [==============================] - 1s 19ms/step - loss: 0.0000e+00 - accuracy: 0.1521 - val_loss: 0.0000e+00 - val_accuracy: 0.1691\n",
      "Epoch 9/120\n",
      "51/51 [==============================] - 1s 19ms/step - loss: 0.0000e+00 - accuracy: 0.1521 - val_loss: 0.0000e+00 - val_accuracy: 0.1691\n",
      "Epoch 10/120\n",
      "51/51 [==============================] - 1s 19ms/step - loss: 0.0000e+00 - accuracy: 0.1521 - val_loss: 0.0000e+00 - val_accuracy: 0.1691\n",
      "Epoch 11/120\n",
      "51/51 [==============================] - 1s 19ms/step - loss: 0.0000e+00 - accuracy: 0.1521 - val_loss: 0.0000e+00 - val_accuracy: 0.1691\n",
      "Epoch 12/120\n",
      "51/51 [==============================] - 1s 21ms/step - loss: 0.0000e+00 - accuracy: 0.1521 - val_loss: 0.0000e+00 - val_accuracy: 0.1691\n",
      "Epoch 13/120\n",
      "51/51 [==============================] - 1s 20ms/step - loss: 0.0000e+00 - accuracy: 0.1521 - val_loss: 0.0000e+00 - val_accuracy: 0.1691\n",
      "Epoch 14/120\n",
      "51/51 [==============================] - 1s 21ms/step - loss: 0.0000e+00 - accuracy: 0.1521 - val_loss: 0.0000e+00 - val_accuracy: 0.1691\n",
      "Epoch 15/120\n",
      "51/51 [==============================] - 1s 21ms/step - loss: 0.0000e+00 - accuracy: 0.1521 - val_loss: 0.0000e+00 - val_accuracy: 0.1691\n",
      "Epoch 16/120\n",
      "51/51 [==============================] - 1s 23ms/step - loss: 0.0000e+00 - accuracy: 0.1521 - val_loss: 0.0000e+00 - val_accuracy: 0.1691\n",
      "Epoch 17/120\n",
      "51/51 [==============================] - 1s 22ms/step - loss: 0.0000e+00 - accuracy: 0.1521 - val_loss: 0.0000e+00 - val_accuracy: 0.1691\n",
      "Epoch 18/120\n",
      "51/51 [==============================] - 1s 24ms/step - loss: 0.0000e+00 - accuracy: 0.1521 - val_loss: 0.0000e+00 - val_accuracy: 0.1691\n",
      "Epoch 19/120\n",
      "51/51 [==============================] - 1s 20ms/step - loss: 0.0000e+00 - accuracy: 0.1521 - val_loss: 0.0000e+00 - val_accuracy: 0.1691\n",
      "Epoch 20/120\n",
      "51/51 [==============================] - 1s 20ms/step - loss: 0.0000e+00 - accuracy: 0.1521 - val_loss: 0.0000e+00 - val_accuracy: 0.1691\n",
      "Epoch 21/120\n",
      "51/51 [==============================] - 1s 19ms/step - loss: 0.0000e+00 - accuracy: 0.1521 - val_loss: 0.0000e+00 - val_accuracy: 0.1691\n",
      "Epoch 22/120\n",
      "51/51 [==============================] - 1s 22ms/step - loss: 0.0000e+00 - accuracy: 0.1521 - val_loss: 0.0000e+00 - val_accuracy: 0.1691\n",
      "Epoch 23/120\n",
      "51/51 [==============================] - 1s 21ms/step - loss: 0.0000e+00 - accuracy: 0.1521 - val_loss: 0.0000e+00 - val_accuracy: 0.1691\n",
      "Epoch 24/120\n",
      "51/51 [==============================] - 1s 20ms/step - loss: 0.0000e+00 - accuracy: 0.1521 - val_loss: 0.0000e+00 - val_accuracy: 0.1691\n",
      "Epoch 25/120\n",
      "51/51 [==============================] - 1s 21ms/step - loss: 0.0000e+00 - accuracy: 0.1521 - val_loss: 0.0000e+00 - val_accuracy: 0.1691\n",
      "Epoch 26/120\n",
      "51/51 [==============================] - 1s 21ms/step - loss: 0.0000e+00 - accuracy: 0.1521 - val_loss: 0.0000e+00 - val_accuracy: 0.1691\n",
      "Epoch 27/120\n",
      "51/51 [==============================] - 1s 22ms/step - loss: 0.0000e+00 - accuracy: 0.1521 - val_loss: 0.0000e+00 - val_accuracy: 0.1691\n",
      "Epoch 28/120\n",
      "51/51 [==============================] - 1s 22ms/step - loss: 0.0000e+00 - accuracy: 0.1521 - val_loss: 0.0000e+00 - val_accuracy: 0.1691\n",
      "Epoch 29/120\n",
      "51/51 [==============================] - 1s 22ms/step - loss: 0.0000e+00 - accuracy: 0.1521 - val_loss: 0.0000e+00 - val_accuracy: 0.1691\n",
      "Epoch 30/120\n",
      "51/51 [==============================] - 1s 22ms/step - loss: 0.0000e+00 - accuracy: 0.1521 - val_loss: 0.0000e+00 - val_accuracy: 0.1691\n",
      "Epoch 31/120\n",
      "51/51 [==============================] - 1s 22ms/step - loss: 0.0000e+00 - accuracy: 0.1521 - val_loss: 0.0000e+00 - val_accuracy: 0.1691\n",
      "Epoch 32/120\n",
      "51/51 [==============================] - 1s 23ms/step - loss: 0.0000e+00 - accuracy: 0.1521 - val_loss: 0.0000e+00 - val_accuracy: 0.1691\n",
      "Epoch 33/120\n",
      "51/51 [==============================] - 1s 24ms/step - loss: 0.0000e+00 - accuracy: 0.1521 - val_loss: 0.0000e+00 - val_accuracy: 0.1691\n",
      "Epoch 34/120\n",
      "51/51 [==============================] - 1s 20ms/step - loss: 0.0000e+00 - accuracy: 0.1521 - val_loss: 0.0000e+00 - val_accuracy: 0.1691\n",
      "Epoch 35/120\n",
      "51/51 [==============================] - 1s 20ms/step - loss: 0.0000e+00 - accuracy: 0.1521 - val_loss: 0.0000e+00 - val_accuracy: 0.1691\n",
      "Epoch 36/120\n",
      "51/51 [==============================] - 1s 20ms/step - loss: 0.0000e+00 - accuracy: 0.1521 - val_loss: 0.0000e+00 - val_accuracy: 0.1691\n",
      "Epoch 37/120\n",
      "51/51 [==============================] - 1s 20ms/step - loss: 0.0000e+00 - accuracy: 0.1521 - val_loss: 0.0000e+00 - val_accuracy: 0.1691\n",
      "Epoch 38/120\n",
      "51/51 [==============================] - 1s 21ms/step - loss: 0.0000e+00 - accuracy: 0.1521 - val_loss: 0.0000e+00 - val_accuracy: 0.1691\n",
      "Epoch 39/120\n",
      "51/51 [==============================] - 1s 21ms/step - loss: 0.0000e+00 - accuracy: 0.1521 - val_loss: 0.0000e+00 - val_accuracy: 0.1691\n",
      "Epoch 40/120\n",
      "51/51 [==============================] - 1s 20ms/step - loss: 0.0000e+00 - accuracy: 0.1521 - val_loss: 0.0000e+00 - val_accuracy: 0.1691\n",
      "Epoch 41/120\n",
      "51/51 [==============================] - 1s 19ms/step - loss: 0.0000e+00 - accuracy: 0.1521 - val_loss: 0.0000e+00 - val_accuracy: 0.1691\n",
      "Epoch 42/120\n",
      "51/51 [==============================] - 1s 21ms/step - loss: 0.0000e+00 - accuracy: 0.1521 - val_loss: 0.0000e+00 - val_accuracy: 0.1691\n",
      "Epoch 43/120\n",
      "51/51 [==============================] - 1s 22ms/step - loss: 0.0000e+00 - accuracy: 0.1521 - val_loss: 0.0000e+00 - val_accuracy: 0.1691\n",
      "Epoch 44/120\n",
      "51/51 [==============================] - 1s 23ms/step - loss: 0.0000e+00 - accuracy: 0.1521 - val_loss: 0.0000e+00 - val_accuracy: 0.1691\n",
      "Epoch 45/120\n",
      "51/51 [==============================] - 1s 22ms/step - loss: 0.0000e+00 - accuracy: 0.1521 - val_loss: 0.0000e+00 - val_accuracy: 0.1691\n",
      "Epoch 46/120\n",
      "51/51 [==============================] - 1s 24ms/step - loss: 0.0000e+00 - accuracy: 0.1521 - val_loss: 0.0000e+00 - val_accuracy: 0.1691\n",
      "Epoch 47/120\n",
      "51/51 [==============================] - 1s 22ms/step - loss: 0.0000e+00 - accuracy: 0.1521 - val_loss: 0.0000e+00 - val_accuracy: 0.1691\n",
      "Epoch 48/120\n",
      "51/51 [==============================] - 1s 22ms/step - loss: 0.0000e+00 - accuracy: 0.1521 - val_loss: 0.0000e+00 - val_accuracy: 0.1691\n",
      "Epoch 49/120\n",
      "51/51 [==============================] - 1s 20ms/step - loss: 0.0000e+00 - accuracy: 0.1521 - val_loss: 0.0000e+00 - val_accuracy: 0.1691\n",
      "Epoch 50/120\n",
      "51/51 [==============================] - 1s 19ms/step - loss: 0.0000e+00 - accuracy: 0.1521 - val_loss: 0.0000e+00 - val_accuracy: 0.1691\n",
      "Epoch 51/120\n",
      "51/51 [==============================] - 1s 19ms/step - loss: 0.0000e+00 - accuracy: 0.1521 - val_loss: 0.0000e+00 - val_accuracy: 0.1691\n",
      "Epoch 52/120\n",
      "51/51 [==============================] - 1s 19ms/step - loss: 0.0000e+00 - accuracy: 0.1521 - val_loss: 0.0000e+00 - val_accuracy: 0.1691\n",
      "Epoch 53/120\n",
      "51/51 [==============================] - 1s 19ms/step - loss: 0.0000e+00 - accuracy: 0.1521 - val_loss: 0.0000e+00 - val_accuracy: 0.1691\n",
      "Epoch 54/120\n",
      "51/51 [==============================] - 1s 19ms/step - loss: 0.0000e+00 - accuracy: 0.1521 - val_loss: 0.0000e+00 - val_accuracy: 0.1691\n",
      "Epoch 55/120\n"
     ]
    },
    {
     "name": "stdout",
     "output_type": "stream",
     "text": [
      "51/51 [==============================] - 1s 19ms/step - loss: 0.0000e+00 - accuracy: 0.1521 - val_loss: 0.0000e+00 - val_accuracy: 0.1691\n",
      "Epoch 56/120\n",
      "51/51 [==============================] - 1s 19ms/step - loss: 0.0000e+00 - accuracy: 0.1521 - val_loss: 0.0000e+00 - val_accuracy: 0.1691\n",
      "Epoch 57/120\n",
      "51/51 [==============================] - 1s 19ms/step - loss: 0.0000e+00 - accuracy: 0.1521 - val_loss: 0.0000e+00 - val_accuracy: 0.1691\n",
      "Epoch 58/120\n",
      "51/51 [==============================] - 1s 21ms/step - loss: 0.0000e+00 - accuracy: 0.1521 - val_loss: 0.0000e+00 - val_accuracy: 0.1691\n",
      "Epoch 59/120\n",
      "51/51 [==============================] - 1s 21ms/step - loss: 0.0000e+00 - accuracy: 0.1521 - val_loss: 0.0000e+00 - val_accuracy: 0.1691\n",
      "Epoch 60/120\n",
      "51/51 [==============================] - 1s 21ms/step - loss: 0.0000e+00 - accuracy: 0.1521 - val_loss: 0.0000e+00 - val_accuracy: 0.1691\n",
      "Epoch 61/120\n",
      "51/51 [==============================] - 1s 21ms/step - loss: 0.0000e+00 - accuracy: 0.1521 - val_loss: 0.0000e+00 - val_accuracy: 0.1691\n",
      "Epoch 62/120\n",
      "51/51 [==============================] - 1s 21ms/step - loss: 0.0000e+00 - accuracy: 0.1521 - val_loss: 0.0000e+00 - val_accuracy: 0.1691\n",
      "Epoch 63/120\n",
      "51/51 [==============================] - 1s 21ms/step - loss: 0.0000e+00 - accuracy: 0.1521 - val_loss: 0.0000e+00 - val_accuracy: 0.1691\n",
      "Epoch 64/120\n",
      "51/51 [==============================] - 1s 20ms/step - loss: 0.0000e+00 - accuracy: 0.1521 - val_loss: 0.0000e+00 - val_accuracy: 0.1691\n",
      "Epoch 65/120\n",
      "51/51 [==============================] - 1s 20ms/step - loss: 0.0000e+00 - accuracy: 0.1521 - val_loss: 0.0000e+00 - val_accuracy: 0.1691\n",
      "Epoch 66/120\n",
      "51/51 [==============================] - 1s 20ms/step - loss: 0.0000e+00 - accuracy: 0.1521 - val_loss: 0.0000e+00 - val_accuracy: 0.1691\n",
      "Epoch 67/120\n",
      "51/51 [==============================] - 1s 20ms/step - loss: 0.0000e+00 - accuracy: 0.1521 - val_loss: 0.0000e+00 - val_accuracy: 0.1691\n",
      "Epoch 68/120\n",
      "51/51 [==============================] - 1s 22ms/step - loss: 0.0000e+00 - accuracy: 0.1521 - val_loss: 0.0000e+00 - val_accuracy: 0.1691\n",
      "Epoch 69/120\n",
      "51/51 [==============================] - 1s 20ms/step - loss: 0.0000e+00 - accuracy: 0.1521 - val_loss: 0.0000e+00 - val_accuracy: 0.1691\n",
      "Epoch 70/120\n",
      "51/51 [==============================] - 1s 21ms/step - loss: 0.0000e+00 - accuracy: 0.1521 - val_loss: 0.0000e+00 - val_accuracy: 0.1691\n",
      "Epoch 71/120\n",
      "51/51 [==============================] - 1s 19ms/step - loss: 0.0000e+00 - accuracy: 0.1521 - val_loss: 0.0000e+00 - val_accuracy: 0.1691\n",
      "Epoch 72/120\n",
      "51/51 [==============================] - 1s 22ms/step - loss: 0.0000e+00 - accuracy: 0.1521 - val_loss: 0.0000e+00 - val_accuracy: 0.1691\n",
      "Epoch 73/120\n",
      "51/51 [==============================] - 1s 24ms/step - loss: 0.0000e+00 - accuracy: 0.1521 - val_loss: 0.0000e+00 - val_accuracy: 0.1691\n",
      "Epoch 74/120\n",
      "51/51 [==============================] - 1s 23ms/step - loss: 0.0000e+00 - accuracy: 0.1521 - val_loss: 0.0000e+00 - val_accuracy: 0.1691\n",
      "Epoch 75/120\n",
      "51/51 [==============================] - 1s 25ms/step - loss: 0.0000e+00 - accuracy: 0.1521 - val_loss: 0.0000e+00 - val_accuracy: 0.1691\n",
      "Epoch 76/120\n",
      "51/51 [==============================] - 1s 22ms/step - loss: 0.0000e+00 - accuracy: 0.1521 - val_loss: 0.0000e+00 - val_accuracy: 0.1691\n",
      "Epoch 77/120\n",
      "51/51 [==============================] - 1s 23ms/step - loss: 0.0000e+00 - accuracy: 0.1521 - val_loss: 0.0000e+00 - val_accuracy: 0.1691\n",
      "Epoch 78/120\n",
      "51/51 [==============================] - 1s 22ms/step - loss: 0.0000e+00 - accuracy: 0.1521 - val_loss: 0.0000e+00 - val_accuracy: 0.1691\n",
      "Epoch 79/120\n",
      "51/51 [==============================] - 1s 19ms/step - loss: 0.0000e+00 - accuracy: 0.1521 - val_loss: 0.0000e+00 - val_accuracy: 0.1691\n",
      "Epoch 80/120\n",
      "51/51 [==============================] - 1s 19ms/step - loss: 0.0000e+00 - accuracy: 0.1521 - val_loss: 0.0000e+00 - val_accuracy: 0.1691\n",
      "Epoch 81/120\n",
      "51/51 [==============================] - 1s 20ms/step - loss: 0.0000e+00 - accuracy: 0.1521 - val_loss: 0.0000e+00 - val_accuracy: 0.1691\n",
      "Epoch 82/120\n",
      "51/51 [==============================] - 1s 19ms/step - loss: 0.0000e+00 - accuracy: 0.1521 - val_loss: 0.0000e+00 - val_accuracy: 0.1691\n",
      "Epoch 83/120\n",
      "51/51 [==============================] - 1s 20ms/step - loss: 0.0000e+00 - accuracy: 0.1521 - val_loss: 0.0000e+00 - val_accuracy: 0.1691\n",
      "Epoch 84/120\n",
      "51/51 [==============================] - 1s 19ms/step - loss: 0.0000e+00 - accuracy: 0.1521 - val_loss: 0.0000e+00 - val_accuracy: 0.1691\n",
      "Epoch 85/120\n",
      "51/51 [==============================] - 1s 20ms/step - loss: 0.0000e+00 - accuracy: 0.1521 - val_loss: 0.0000e+00 - val_accuracy: 0.1691\n",
      "Epoch 86/120\n",
      "51/51 [==============================] - 1s 20ms/step - loss: 0.0000e+00 - accuracy: 0.1521 - val_loss: 0.0000e+00 - val_accuracy: 0.1691\n",
      "Epoch 87/120\n",
      "51/51 [==============================] - 1s 19ms/step - loss: 0.0000e+00 - accuracy: 0.1521 - val_loss: 0.0000e+00 - val_accuracy: 0.1691\n",
      "Epoch 88/120\n",
      "51/51 [==============================] - 1s 22ms/step - loss: 0.0000e+00 - accuracy: 0.1521 - val_loss: 0.0000e+00 - val_accuracy: 0.1691\n",
      "Epoch 89/120\n",
      "51/51 [==============================] - 1s 22ms/step - loss: 0.0000e+00 - accuracy: 0.1521 - val_loss: 0.0000e+00 - val_accuracy: 0.1691\n",
      "Epoch 90/120\n",
      "51/51 [==============================] - 1s 21ms/step - loss: 0.0000e+00 - accuracy: 0.1521 - val_loss: 0.0000e+00 - val_accuracy: 0.1691\n",
      "Epoch 91/120\n",
      "51/51 [==============================] - 1s 21ms/step - loss: 0.0000e+00 - accuracy: 0.1521 - val_loss: 0.0000e+00 - val_accuracy: 0.1691\n",
      "Epoch 92/120\n",
      "51/51 [==============================] - 1s 21ms/step - loss: 0.0000e+00 - accuracy: 0.1521 - val_loss: 0.0000e+00 - val_accuracy: 0.1691\n",
      "Epoch 93/120\n",
      "51/51 [==============================] - 1s 22ms/step - loss: 0.0000e+00 - accuracy: 0.1521 - val_loss: 0.0000e+00 - val_accuracy: 0.1691\n",
      "Epoch 94/120\n",
      "51/51 [==============================] - 1s 20ms/step - loss: 0.0000e+00 - accuracy: 0.1521 - val_loss: 0.0000e+00 - val_accuracy: 0.1691\n",
      "Epoch 95/120\n",
      "51/51 [==============================] - 1s 20ms/step - loss: 0.0000e+00 - accuracy: 0.1521 - val_loss: 0.0000e+00 - val_accuracy: 0.1691\n",
      "Epoch 96/120\n",
      "51/51 [==============================] - 1s 19ms/step - loss: 0.0000e+00 - accuracy: 0.1521 - val_loss: 0.0000e+00 - val_accuracy: 0.1691\n",
      "Epoch 97/120\n",
      "51/51 [==============================] - 1s 20ms/step - loss: 0.0000e+00 - accuracy: 0.1521 - val_loss: 0.0000e+00 - val_accuracy: 0.1691\n",
      "Epoch 98/120\n",
      "51/51 [==============================] - 1s 20ms/step - loss: 0.0000e+00 - accuracy: 0.1521 - val_loss: 0.0000e+00 - val_accuracy: 0.1691\n",
      "Epoch 99/120\n",
      "51/51 [==============================] - 1s 20ms/step - loss: 0.0000e+00 - accuracy: 0.1521 - val_loss: 0.0000e+00 - val_accuracy: 0.1691\n",
      "Epoch 100/120\n",
      "51/51 [==============================] - 1s 20ms/step - loss: 0.0000e+00 - accuracy: 0.1521 - val_loss: 0.0000e+00 - val_accuracy: 0.1691\n",
      "Epoch 101/120\n",
      "51/51 [==============================] - 1s 20ms/step - loss: 0.0000e+00 - accuracy: 0.1521 - val_loss: 0.0000e+00 - val_accuracy: 0.1691\n",
      "Epoch 102/120\n",
      "51/51 [==============================] - 1s 22ms/step - loss: 0.0000e+00 - accuracy: 0.1521 - val_loss: 0.0000e+00 - val_accuracy: 0.1691\n",
      "Epoch 103/120\n",
      "51/51 [==============================] - 1s 27ms/step - loss: 0.0000e+00 - accuracy: 0.1521 - val_loss: 0.0000e+00 - val_accuracy: 0.1691\n",
      "Epoch 104/120\n",
      "51/51 [==============================] - 1s 21ms/step - loss: 0.0000e+00 - accuracy: 0.1521 - val_loss: 0.0000e+00 - val_accuracy: 0.1691\n",
      "Epoch 105/120\n",
      "51/51 [==============================] - 1s 23ms/step - loss: 0.0000e+00 - accuracy: 0.1521 - val_loss: 0.0000e+00 - val_accuracy: 0.1691\n",
      "Epoch 106/120\n",
      "51/51 [==============================] - 1s 24ms/step - loss: 0.0000e+00 - accuracy: 0.1521 - val_loss: 0.0000e+00 - val_accuracy: 0.1691\n",
      "Epoch 107/120\n",
      "51/51 [==============================] - 1s 23ms/step - loss: 0.0000e+00 - accuracy: 0.1521 - val_loss: 0.0000e+00 - val_accuracy: 0.1691\n",
      "Epoch 108/120\n",
      "51/51 [==============================] - 1s 26ms/step - loss: 0.0000e+00 - accuracy: 0.1521 - val_loss: 0.0000e+00 - val_accuracy: 0.1691\n",
      "Epoch 109/120\n"
     ]
    },
    {
     "name": "stdout",
     "output_type": "stream",
     "text": [
      "51/51 [==============================] - 1s 19ms/step - loss: 0.0000e+00 - accuracy: 0.1521 - val_loss: 0.0000e+00 - val_accuracy: 0.1691\n",
      "Epoch 110/120\n",
      "51/51 [==============================] - 1s 20ms/step - loss: 0.0000e+00 - accuracy: 0.1521 - val_loss: 0.0000e+00 - val_accuracy: 0.1691\n",
      "Epoch 111/120\n",
      "51/51 [==============================] - 1s 21ms/step - loss: 0.0000e+00 - accuracy: 0.1521 - val_loss: 0.0000e+00 - val_accuracy: 0.1691\n",
      "Epoch 112/120\n",
      "51/51 [==============================] - 1s 21ms/step - loss: 0.0000e+00 - accuracy: 0.1521 - val_loss: 0.0000e+00 - val_accuracy: 0.1691\n",
      "Epoch 113/120\n",
      "51/51 [==============================] - 1s 21ms/step - loss: 0.0000e+00 - accuracy: 0.1521 - val_loss: 0.0000e+00 - val_accuracy: 0.1691\n",
      "Epoch 114/120\n",
      "51/51 [==============================] - 1s 21ms/step - loss: 0.0000e+00 - accuracy: 0.1521 - val_loss: 0.0000e+00 - val_accuracy: 0.1691\n",
      "Epoch 115/120\n",
      "51/51 [==============================] - 1s 22ms/step - loss: 0.0000e+00 - accuracy: 0.1521 - val_loss: 0.0000e+00 - val_accuracy: 0.1691\n",
      "Epoch 116/120\n",
      "51/51 [==============================] - 1s 20ms/step - loss: 0.0000e+00 - accuracy: 0.1521 - val_loss: 0.0000e+00 - val_accuracy: 0.1691\n",
      "Epoch 117/120\n",
      "51/51 [==============================] - 1s 21ms/step - loss: 0.0000e+00 - accuracy: 0.1521 - val_loss: 0.0000e+00 - val_accuracy: 0.1691\n",
      "Epoch 118/120\n",
      "51/51 [==============================] - 1s 23ms/step - loss: 0.0000e+00 - accuracy: 0.1521 - val_loss: 0.0000e+00 - val_accuracy: 0.1691\n",
      "Epoch 119/120\n",
      "51/51 [==============================] - 1s 21ms/step - loss: 0.0000e+00 - accuracy: 0.1521 - val_loss: 0.0000e+00 - val_accuracy: 0.1691\n",
      "Epoch 120/120\n",
      "51/51 [==============================] - 1s 23ms/step - loss: 0.0000e+00 - accuracy: 0.1521 - val_loss: 0.0000e+00 - val_accuracy: 0.1691\n"
     ]
    },
    {
     "data": {
      "text/plain": [
       "<keras.callbacks.History at 0x175e74bc520>"
      ]
     },
     "execution_count": 10,
     "metadata": {},
     "output_type": "execute_result"
    }
   ],
   "source": [
    "model.fit(x_train,y_train,batch_size=50,epochs=120,validation_data=(x_test,y_test))"
   ]
  },
  {
   "cell_type": "code",
   "execution_count": 11,
   "id": "7acdac18",
   "metadata": {},
   "outputs": [
    {
     "name": "stdout",
     "output_type": "stream",
     "text": [
      "40/40 [==============================] - 1s 4ms/step\n"
     ]
    }
   ],
   "source": [
    "y_pred = (model.predict(x_test) > 0.5).astype(\"int32\")"
   ]
  },
  {
   "cell_type": "code",
   "execution_count": 12,
   "id": "c919821a",
   "metadata": {},
   "outputs": [
    {
     "name": "stdout",
     "output_type": "stream",
     "text": [
      "accuracy is = 16.905901116427433 %\n"
     ]
    }
   ],
   "source": [
    "val=metrics.accuracy_score(y_test,y_pred)\n",
    "print(\"accuracy is =\",str(val*100)+\" %\")"
   ]
  },
  {
   "cell_type": "code",
   "execution_count": null,
   "id": "cf024a00",
   "metadata": {},
   "outputs": [],
   "source": []
  }
 ],
 "metadata": {
  "kernelspec": {
   "display_name": "Python 3 (ipykernel)",
   "language": "python",
   "name": "python3"
  },
  "language_info": {
   "codemirror_mode": {
    "name": "ipython",
    "version": 3
   },
   "file_extension": ".py",
   "mimetype": "text/x-python",
   "name": "python",
   "nbconvert_exporter": "python",
   "pygments_lexer": "ipython3",
   "version": "3.8.12"
  }
 },
 "nbformat": 4,
 "nbformat_minor": 5
}
